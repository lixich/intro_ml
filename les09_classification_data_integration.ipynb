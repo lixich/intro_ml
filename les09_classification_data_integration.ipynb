{
 "cells": [
  {
   "cell_type": "markdown",
   "metadata": {},
   "source": [
    "# Задача классификации"
   ]
  },
  {
   "cell_type": "code",
   "execution_count": 42,
   "metadata": {},
   "outputs": [],
   "source": [
    "import pandas as pd\n",
    "import requests\n",
    "from bs4 import BeautifulSoup\n",
    "import sqlite3\n",
    "\n",
    "headers = {\n",
    "    'User-Agent':'Mozilla/5.0 (Windows NT 6.0; rv:14.0) Gecko/20100101 Firefox/14.0.1',\n",
    "    'Accept': 'text/html,application/xhtml+xml,application/xml;q=0.9,*/*;q=0.8',\n",
    "    'Accept-Language':'ru-ru,ru;q=0.8,en-us;q=0.5,en;q=0.3',\n",
    "    'Accept-Encoding':'gzip, deflate',\n",
    "    'Connection':'keep-alive',\n",
    "    'DNT':'1'\n",
    "}\n",
    "conn = sqlite3.connect('database.sqlite')"
   ]
  },
  {
   "cell_type": "code",
   "execution_count": 4,
   "metadata": {},
   "outputs": [
    {
     "data": {
      "text/html": [
       "<div>\n",
       "<style scoped>\n",
       "    .dataframe tbody tr th:only-of-type {\n",
       "        vertical-align: middle;\n",
       "    }\n",
       "\n",
       "    .dataframe tbody tr th {\n",
       "        vertical-align: top;\n",
       "    }\n",
       "\n",
       "    .dataframe thead th {\n",
       "        text-align: right;\n",
       "    }\n",
       "</style>\n",
       "<table border=\"1\" class=\"dataframe\">\n",
       "  <thead>\n",
       "    <tr style=\"text-align: right;\">\n",
       "      <th></th>\n",
       "      <th>Date</th>\n",
       "      <th>Player</th>\n",
       "      <th>Profile</th>\n",
       "      <th>Type</th>\n",
       "      <th>Age</th>\n",
       "      <th>FromClub</th>\n",
       "      <th>FromType</th>\n",
       "      <th>FromCountry</th>\n",
       "      <th>ToClub</th>\n",
       "      <th>ToType</th>\n",
       "      <th>ToCountry</th>\n",
       "      <th>Fee</th>\n",
       "      <th>FeeNumber</th>\n",
       "      <th>TransferLink</th>\n",
       "    </tr>\n",
       "  </thead>\n",
       "  <tbody>\n",
       "    <tr>\n",
       "      <th>0</th>\n",
       "      <td>1996-01-01</td>\n",
       "      <td>Chris Day</td>\n",
       "      <td>https://www.transfermarkt.co.uk/chris-day/prof...</td>\n",
       "      <td>Keeper</td>\n",
       "      <td>20.0</td>\n",
       "      <td>Spurs</td>\n",
       "      <td>Premier League</td>\n",
       "      <td>England</td>\n",
       "      <td>Crystal Palace</td>\n",
       "      <td>England</td>\n",
       "      <td>England</td>\n",
       "      <td>&lt;U+00A3&gt;315k</td>\n",
       "      <td>315000.0</td>\n",
       "      <td>https://www.transfermarkt.co.uk/jumplist/trans...</td>\n",
       "    </tr>\n",
       "    <tr>\n",
       "      <th>1</th>\n",
       "      <td>1996-01-01</td>\n",
       "      <td>Craig Armstrong</td>\n",
       "      <td>https://www.transfermarkt.co.uk/craig-armstron...</td>\n",
       "      <td>Left Midfield</td>\n",
       "      <td>20.0</td>\n",
       "      <td>Nottm Forest</td>\n",
       "      <td>Premier League</td>\n",
       "      <td>England</td>\n",
       "      <td>Bristol Rovers</td>\n",
       "      <td>England</td>\n",
       "      <td>England</td>\n",
       "      <td>Loan</td>\n",
       "      <td>NaN</td>\n",
       "      <td>https://www.transfermarkt.co.uk/jumplist/trans...</td>\n",
       "    </tr>\n",
       "    <tr>\n",
       "      <th>2</th>\n",
       "      <td>1996-01-01</td>\n",
       "      <td>Marquinhos Parana</td>\n",
       "      <td>https://www.transfermarkt.co.uk/marquinhos-par...</td>\n",
       "      <td>Defensive Midfield</td>\n",
       "      <td>18.0</td>\n",
       "      <td>Santa Cruz</td>\n",
       "      <td>Brazil</td>\n",
       "      <td>Brazil</td>\n",
       "      <td>Parana</td>\n",
       "      <td>Brazil</td>\n",
       "      <td>Brazil</td>\n",
       "      <td>Free transfer</td>\n",
       "      <td>0.0</td>\n",
       "      <td>https://www.transfermarkt.co.uk/jumplist/trans...</td>\n",
       "    </tr>\n",
       "    <tr>\n",
       "      <th>3</th>\n",
       "      <td>1996-01-01</td>\n",
       "      <td>Bosun Ayeni</td>\n",
       "      <td>https://www.transfermarkt.co.uk/bosun-ayeni/pr...</td>\n",
       "      <td>Defensive Midfield</td>\n",
       "      <td>17.0</td>\n",
       "      <td>V.I.P.</td>\n",
       "      <td>Nigeria</td>\n",
       "      <td>Nigeria</td>\n",
       "      <td>Shooting Stars</td>\n",
       "      <td>Nigeria</td>\n",
       "      <td>Nigeria</td>\n",
       "      <td>Free transfer</td>\n",
       "      <td>0.0</td>\n",
       "      <td>https://www.transfermarkt.co.uk/jumplist/trans...</td>\n",
       "    </tr>\n",
       "    <tr>\n",
       "      <th>4</th>\n",
       "      <td>1996-01-01</td>\n",
       "      <td>Chris Kanu</td>\n",
       "      <td>https://www.transfermarkt.co.uk/chris-kanu/pro...</td>\n",
       "      <td>Right-Back</td>\n",
       "      <td>16.0</td>\n",
       "      <td>Eagle Cement</td>\n",
       "      <td>Nigeria</td>\n",
       "      <td>Nigeria</td>\n",
       "      <td>AFC Ajax</td>\n",
       "      <td>Eredivisie</td>\n",
       "      <td>Netherlands</td>\n",
       "      <td>Free transfer</td>\n",
       "      <td>0.0</td>\n",
       "      <td>https://www.transfermarkt.co.uk/jumplist/trans...</td>\n",
       "    </tr>\n",
       "  </tbody>\n",
       "</table>\n",
       "</div>"
      ],
      "text/plain": [
       "         Date             Player  \\\n",
       "0  1996-01-01          Chris Day   \n",
       "1  1996-01-01    Craig Armstrong   \n",
       "2  1996-01-01  Marquinhos Parana   \n",
       "3  1996-01-01        Bosun Ayeni   \n",
       "4  1996-01-01         Chris Kanu   \n",
       "\n",
       "                                             Profile                Type  \\\n",
       "0  https://www.transfermarkt.co.uk/chris-day/prof...              Keeper   \n",
       "1  https://www.transfermarkt.co.uk/craig-armstron...       Left Midfield   \n",
       "2  https://www.transfermarkt.co.uk/marquinhos-par...  Defensive Midfield   \n",
       "3  https://www.transfermarkt.co.uk/bosun-ayeni/pr...  Defensive Midfield   \n",
       "4  https://www.transfermarkt.co.uk/chris-kanu/pro...          Right-Back   \n",
       "\n",
       "    Age      FromClub        FromType FromCountry          ToClub      ToType  \\\n",
       "0  20.0         Spurs  Premier League     England  Crystal Palace     England   \n",
       "1  20.0  Nottm Forest  Premier League     England  Bristol Rovers     England   \n",
       "2  18.0    Santa Cruz          Brazil      Brazil          Parana      Brazil   \n",
       "3  17.0        V.I.P.         Nigeria     Nigeria  Shooting Stars     Nigeria   \n",
       "4  16.0  Eagle Cement         Nigeria     Nigeria        AFC Ajax  Eredivisie   \n",
       "\n",
       "     ToCountry            Fee  FeeNumber  \\\n",
       "0      England   <U+00A3>315k   315000.0   \n",
       "1      England           Loan        NaN   \n",
       "2       Brazil  Free transfer        0.0   \n",
       "3      Nigeria  Free transfer        0.0   \n",
       "4  Netherlands  Free transfer        0.0   \n",
       "\n",
       "                                        TransferLink  \n",
       "0  https://www.transfermarkt.co.uk/jumplist/trans...  \n",
       "1  https://www.transfermarkt.co.uk/jumplist/trans...  \n",
       "2  https://www.transfermarkt.co.uk/jumplist/trans...  \n",
       "3  https://www.transfermarkt.co.uk/jumplist/trans...  \n",
       "4  https://www.transfermarkt.co.uk/jumplist/trans...  "
      ]
     },
     "execution_count": 4,
     "metadata": {},
     "output_type": "execute_result"
    }
   ],
   "source": [
    "df = pd.read_csv('transfers.csv', sep=',', encoding='koi8-r')\n",
    "del df['Unnamed: 0']\n",
    "df.head()"
   ]
  },
  {
   "cell_type": "code",
   "execution_count": 18,
   "metadata": {},
   "outputs": [
    {
     "data": {
      "text/plain": [
       "Date                                                   2009-07-01\n",
       "Player                                          Cristiano Ronaldo\n",
       "Profile         https://www.transfermarkt.co.uk/cristiano-rona...\n",
       "Type                                               Centre-Forward\n",
       "Age                                                            24\n",
       "FromClub                                                  Man Utd\n",
       "FromType                                           Premier League\n",
       "FromCountry                                               England\n",
       "ToClub                                                Real Madrid\n",
       "ToType                                                     LaLiga\n",
       "ToCountry                                                   Spain\n",
       "Fee                                                <U+00A3>84.60m\n",
       "FeeNumber                                                8.46e+07\n",
       "TransferLink    https://www.transfermarkt.co.uk/jumplist/trans...\n",
       "Name: 93823, dtype: object"
      ]
     },
     "execution_count": 18,
     "metadata": {},
     "output_type": "execute_result"
    }
   ],
   "source": [
    "ronaldo = df[(df.Player == 'Cristiano Ronaldo') & (df.Date == '2009-07-01')].iloc[0]\n",
    "ronaldo"
   ]
  },
  {
   "cell_type": "markdown",
   "metadata": {},
   "source": [
    "### Сбор данных"
   ]
  },
  {
   "cell_type": "code",
   "execution_count": 24,
   "metadata": {},
   "outputs": [
    {
     "data": {
      "text/plain": [
       "'https://www.transfermarkt.co.uk/cristiano-ronaldo/leistungsdaten/spieler/8198/saison/2009'"
      ]
     },
     "execution_count": 24,
     "metadata": {},
     "output_type": "execute_result"
    }
   ],
   "source": [
    "url_ronaldo_info = ronaldo.Profile.replace('profil', 'leistungsdaten') + '/saison/' + str(ronaldo.Date[:4])\n",
    "url_ronaldo_info"
   ]
  },
  {
   "cell_type": "code",
   "execution_count": 33,
   "metadata": {},
   "outputs": [
    {
     "data": {
      "text/plain": [
       "'Portugal'"
      ]
     },
     "execution_count": 33,
     "metadata": {},
     "output_type": "execute_result"
    }
   ],
   "source": [
    "request = requests.get(url_ronaldo_info, headers=headers)\n",
    "soup = BeautifulSoup(request.text, 'lxml')\n",
    "# country\n",
    "soup.find_all('span', attrs ={'class': 'dataValue'})[2].text.strip()"
   ]
  },
  {
   "cell_type": "code",
   "execution_count": 40,
   "metadata": {},
   "outputs": [],
   "source": [
    "# python code for scraping other player information"
   ]
  },
  {
   "cell_type": "markdown",
   "metadata": {},
   "source": [
    "### Интеграция данных"
   ]
  },
  {
   "cell_type": "code",
   "execution_count": 56,
   "metadata": {},
   "outputs": [
    {
     "data": {
      "text/html": [
       "<div>\n",
       "<style scoped>\n",
       "    .dataframe tbody tr th:only-of-type {\n",
       "        vertical-align: middle;\n",
       "    }\n",
       "\n",
       "    .dataframe tbody tr th {\n",
       "        vertical-align: top;\n",
       "    }\n",
       "\n",
       "    .dataframe thead th {\n",
       "        text-align: right;\n",
       "    }\n",
       "</style>\n",
       "<table border=\"1\" class=\"dataframe\">\n",
       "  <thead>\n",
       "    <tr style=\"text-align: right;\">\n",
       "      <th></th>\n",
       "      <th>id</th>\n",
       "      <th>player_fifa_api_id</th>\n",
       "      <th>player_api_id</th>\n",
       "      <th>date</th>\n",
       "      <th>overall_rating</th>\n",
       "      <th>potential</th>\n",
       "      <th>preferred_foot</th>\n",
       "      <th>attacking_work_rate</th>\n",
       "      <th>defensive_work_rate</th>\n",
       "      <th>crossing</th>\n",
       "      <th>...</th>\n",
       "      <th>gk_kicking</th>\n",
       "      <th>gk_positioning</th>\n",
       "      <th>gk_reflexes</th>\n",
       "      <th>id</th>\n",
       "      <th>player_api_id</th>\n",
       "      <th>player_name</th>\n",
       "      <th>player_fifa_api_id</th>\n",
       "      <th>birthday</th>\n",
       "      <th>height</th>\n",
       "      <th>weight</th>\n",
       "    </tr>\n",
       "  </thead>\n",
       "  <tbody>\n",
       "    <tr>\n",
       "      <th>0</th>\n",
       "      <td>33351</td>\n",
       "      <td>20801</td>\n",
       "      <td>30893</td>\n",
       "      <td>2009-08-30 00:00:00</td>\n",
       "      <td>89</td>\n",
       "      <td>94</td>\n",
       "      <td>right</td>\n",
       "      <td>high</td>\n",
       "      <td>low</td>\n",
       "      <td>86</td>\n",
       "      <td>...</td>\n",
       "      <td>71</td>\n",
       "      <td>21</td>\n",
       "      <td>21</td>\n",
       "      <td>1995</td>\n",
       "      <td>30893</td>\n",
       "      <td>Cristiano Ronaldo</td>\n",
       "      <td>20801</td>\n",
       "      <td>1985-02-05 00:00:00</td>\n",
       "      <td>185.42</td>\n",
       "      <td>176</td>\n",
       "    </tr>\n",
       "  </tbody>\n",
       "</table>\n",
       "<p>1 rows × 49 columns</p>\n",
       "</div>"
      ],
      "text/plain": [
       "      id  player_fifa_api_id  player_api_id                 date  \\\n",
       "0  33351               20801          30893  2009-08-30 00:00:00   \n",
       "\n",
       "   overall_rating  potential preferred_foot attacking_work_rate  \\\n",
       "0              89         94          right                high   \n",
       "\n",
       "  defensive_work_rate  crossing   ...    gk_kicking  gk_positioning  \\\n",
       "0                 low        86   ...            71              21   \n",
       "\n",
       "   gk_reflexes    id  player_api_id        player_name  player_fifa_api_id  \\\n",
       "0           21  1995          30893  Cristiano Ronaldo               20801   \n",
       "\n",
       "              birthday  height  weight  \n",
       "0  1985-02-05 00:00:00  185.42     176  \n",
       "\n",
       "[1 rows x 49 columns]"
      ]
     },
     "execution_count": 56,
     "metadata": {},
     "output_type": "execute_result"
    }
   ],
   "source": [
    "ronaldo_before_sql = pd.read_sql_query('''\n",
    "select *\n",
    "from Player_Attributes\n",
    "left join Player on Player_Attributes.player_fifa_api_id = Player.player_fifa_api_id\n",
    "where Player.player_name = \"Cristiano Ronaldo\" and Player_Attributes.date like \"%2009-08%\" \n",
    "''', conn)\n",
    "ronaldo_before_sql"
   ]
  },
  {
   "cell_type": "code",
   "execution_count": 57,
   "metadata": {},
   "outputs": [
    {
     "data": {
      "text/plain": [
       "0    89\n",
       "Name: overall_rating, dtype: int64"
      ]
     },
     "execution_count": 57,
     "metadata": {},
     "output_type": "execute_result"
    }
   ],
   "source": [
    "# rating before transfer\n",
    "ronaldo_before_sql['overall_rating']"
   ]
  },
  {
   "cell_type": "code",
   "execution_count": 61,
   "metadata": {},
   "outputs": [
    {
     "data": {
      "text/plain": [
       "0    89\n",
       "Name: overall_rating, dtype: int64"
      ]
     },
     "execution_count": 61,
     "metadata": {},
     "output_type": "execute_result"
    }
   ],
   "source": [
    "ronaldo_after_sql = pd.read_sql_query('''\n",
    "select *\n",
    "from Player_Attributes\n",
    "left join Player on Player_Attributes.player_fifa_api_id = Player.player_fifa_api_id\n",
    "where Player.player_name = \"Cristiano Ronaldo\" and Player_Attributes.date like \"%2010-08%\" \n",
    "''', conn)\n",
    "# rating after transfer\n",
    "ronaldo_after_sql['overall_rating']"
   ]
  },
  {
   "cell_type": "code",
   "execution_count": 59,
   "metadata": {},
   "outputs": [],
   "source": [
    "# data markup\n",
    "ronaldo['IsSuccessTransfer'] = 0"
   ]
  },
  {
   "cell_type": "code",
   "execution_count": 60,
   "metadata": {},
   "outputs": [
    {
     "data": {
      "text/plain": [
       "Date                                                        2009-07-01\n",
       "Player                                               Cristiano Ronaldo\n",
       "Profile              https://www.transfermarkt.co.uk/cristiano-rona...\n",
       "Type                                                    Centre-Forward\n",
       "Age                                                                 24\n",
       "FromClub                                                       Man Utd\n",
       "FromType                                                Premier League\n",
       "FromCountry                                                    England\n",
       "ToClub                                                     Real Madrid\n",
       "ToType                                                          LaLiga\n",
       "ToCountry                                                        Spain\n",
       "Fee                                                     <U+00A3>84.60m\n",
       "FeeNumber                                                     8.46e+07\n",
       "TransferLink         https://www.transfermarkt.co.uk/jumplist/trans...\n",
       "IsSuccessTransfer                                                    0\n",
       "Name: 93823, dtype: object"
      ]
     },
     "execution_count": 60,
     "metadata": {},
     "output_type": "execute_result"
    }
   ],
   "source": [
    "ronaldo"
   ]
  },
  {
   "cell_type": "code",
   "execution_count": null,
   "metadata": {},
   "outputs": [],
   "source": [
    "# python code (pd.merge) for join other player information"
   ]
  }
 ],
 "metadata": {
  "kernelspec": {
   "display_name": "Python 3",
   "language": "python",
   "name": "python3"
  },
  "language_info": {
   "codemirror_mode": {
    "name": "ipython",
    "version": 3
   },
   "file_extension": ".py",
   "mimetype": "text/x-python",
   "name": "python",
   "nbconvert_exporter": "python",
   "pygments_lexer": "ipython3",
   "version": "3.6.4"
  }
 },
 "nbformat": 4,
 "nbformat_minor": 2
}
